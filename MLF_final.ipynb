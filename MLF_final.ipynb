{
  "nbformat": 4,
  "nbformat_minor": 0,
  "metadata": {
    "colab": {
      "provenance": [],
      "mount_file_id": "11F13qzwV0nmo5bYuBkRs-edIkyObGGhR",
      "authorship_tag": "ABX9TyOh+w/D414pwqs9ul6VKYiK",
      "include_colab_link": true
    },
    "kernelspec": {
      "name": "python3",
      "display_name": "Python 3"
    },
    "language_info": {
      "name": "python"
    }
  },
  "cells": [
    {
      "cell_type": "markdown",
      "metadata": {
        "id": "view-in-github",
        "colab_type": "text"
      },
      "source": [
        "<a href=\"https://colab.research.google.com/github/Summer99D/Big_data_final_project/blob/main/MLF_final.ipynb\" target=\"_parent\"><img src=\"https://colab.research.google.com/assets/colab-badge.svg\" alt=\"Open In Colab\"/></a>"
      ]
    },
    {
      "cell_type": "code",
      "execution_count": 1,
      "metadata": {
        "id": "Kxws0VqPUfaI"
      },
      "outputs": [],
      "source": [
        "import pandas as pd\n",
        "import numpy as np\n",
        "import matplotlib.pyplot as plt\n",
        "import seaborn as sns\n",
        "import missingno as msno\n",
        "from sklearn.impute import SimpleImputer\n",
        "from sklearn.preprocessing import StandardScaler\n",
        "from sklearn.decomposition import PCA\n",
        "from category_encoders import TargetEncoder\n",
        "from sklearn.linear_model import LogisticRegression\n",
        "from sklearn.metrics import roc_auc_score"
      ]
    },
    {
      "cell_type": "code",
      "source": [
        "from google.colab import drive\n",
        "drive.mount('/content/drive')"
      ],
      "metadata": {
        "colab": {
          "base_uri": "https://localhost:8080/"
        },
        "id": "GDq0oJBPVz44",
        "outputId": "17ec70f6-8dbe-426f-9e83-fafb0ddeffb6"
      },
      "execution_count": 2,
      "outputs": [
        {
          "output_type": "stream",
          "name": "stdout",
          "text": [
            "Drive already mounted at /content/drive; to attempt to forcibly remount, call drive.mount(\"/content/drive\", force_remount=True).\n"
          ]
        }
      ]
    },
    {
      "cell_type": "code",
      "source": [
        "test_trns_df= pd.read_csv('/content/drive/MyDrive/MLF/test_transaction.csv')\n",
        "test_id_df= pd.read_csv('/content/drive/MyDrive/MLF/test_identity.csv')\n",
        "train_trns_df= pd.read_csv('/content/drive/MyDrive/MLF/train_transaction.csv')\n",
        "train_id_df= pd.read_csv('/content/drive/MyDrive/MLF/train_identity.csv')\n"
      ],
      "metadata": {
        "id": "VK3bLxK6UmtS"
      },
      "execution_count": 3,
      "outputs": []
    },
    {
      "cell_type": "code",
      "source": [
        "print(test_trns_df.describe)"
      ],
      "metadata": {
        "colab": {
          "base_uri": "https://localhost:8080/"
        },
        "id": "WFR9HD5KWue4",
        "outputId": "ec4e6e46-8d8d-4ed4-ccdc-b643cc4d776d"
      },
      "execution_count": 4,
      "outputs": [
        {
          "output_type": "stream",
          "name": "stdout",
          "text": [
            "<bound method NDFrame.describe of         TransactionID  TransactionDT  TransactionAmt ProductCD  card1  card2  \\\n",
            "0             3663549       18403224          31.950         W  10409  111.0   \n",
            "1             3663550       18403263          49.000         W   4272  111.0   \n",
            "2             3663551       18403310         171.000         W   4476  574.0   \n",
            "3             3663552       18403310         284.950         W  10989  360.0   \n",
            "4             3663553       18403317          67.950         W  18018  452.0   \n",
            "...               ...            ...             ...       ...    ...    ...   \n",
            "506686        4170235       34214279          94.679         C  13832  375.0   \n",
            "506687        4170236       34214287          12.173         C   3154  408.0   \n",
            "506688        4170237       34214326          49.000         W  16661  490.0   \n",
            "506689        4170238       34214337         202.000         W  16621  516.0   \n",
            "506690        4170239       34214345          24.346         C   5713  168.0   \n",
            "\n",
            "        card3       card4  card5   card6  ...  V330  V331  V332  V333 V334  \\\n",
            "0       150.0        visa  226.0   debit  ...   NaN   NaN   NaN   NaN  NaN   \n",
            "1       150.0        visa  226.0   debit  ...   NaN   NaN   NaN   NaN  NaN   \n",
            "2       150.0        visa  226.0   debit  ...   NaN   NaN   NaN   NaN  NaN   \n",
            "3       150.0        visa  166.0   debit  ...   NaN   NaN   NaN   NaN  NaN   \n",
            "4       150.0  mastercard  117.0   debit  ...   NaN   NaN   NaN   NaN  NaN   \n",
            "...       ...         ...    ...     ...  ...   ...   ...   ...   ...  ...   \n",
            "506686  185.0  mastercard  224.0   debit  ...   NaN   NaN   NaN   NaN  NaN   \n",
            "506687  185.0  mastercard  224.0   debit  ...   NaN   NaN   NaN   NaN  NaN   \n",
            "506688  150.0        visa  226.0   debit  ...   NaN   NaN   NaN   NaN  NaN   \n",
            "506689  150.0  mastercard  224.0   debit  ...   NaN   NaN   NaN   NaN  NaN   \n",
            "506690  144.0        visa  147.0  credit  ...   NaN   NaN   NaN   NaN  NaN   \n",
            "\n",
            "       V335  V336  V337  V338  V339  \n",
            "0       NaN   NaN   NaN   NaN   NaN  \n",
            "1       NaN   NaN   NaN   NaN   NaN  \n",
            "2       NaN   NaN   NaN   NaN   NaN  \n",
            "3       NaN   NaN   NaN   NaN   NaN  \n",
            "4       NaN   NaN   NaN   NaN   NaN  \n",
            "...     ...   ...   ...   ...   ...  \n",
            "506686  NaN   NaN   NaN   NaN   NaN  \n",
            "506687  NaN   NaN   NaN   NaN   NaN  \n",
            "506688  NaN   NaN   NaN   NaN   NaN  \n",
            "506689  NaN   NaN   NaN   NaN   NaN  \n",
            "506690  NaN   NaN   NaN   NaN   NaN  \n",
            "\n",
            "[506691 rows x 393 columns]>\n"
          ]
        }
      ]
    },
    {
      "cell_type": "code",
      "source": [
        "print(test_id_df.describe)"
      ],
      "metadata": {
        "colab": {
          "base_uri": "https://localhost:8080/"
        },
        "id": "5Nt7PjijXJsA",
        "outputId": "771d96f9-bc00-4caa-823e-df3a8251ce0f"
      },
      "execution_count": 5,
      "outputs": [
        {
          "output_type": "stream",
          "name": "stdout",
          "text": [
            "<bound method NDFrame.describe of         TransactionID  id-01     id-02  id-03  id-04  id-05  id-06  id-07  \\\n",
            "0             3663586  -45.0  280290.0    NaN    NaN    0.0    0.0    NaN   \n",
            "1             3663588    0.0    3579.0    0.0    0.0    0.0    0.0    NaN   \n",
            "2             3663597   -5.0  185210.0    NaN    NaN    1.0    0.0    NaN   \n",
            "3             3663601  -45.0  252944.0    0.0    0.0    0.0    0.0    NaN   \n",
            "4             3663602  -95.0  328680.0    NaN    NaN    7.0  -33.0    NaN   \n",
            "...               ...    ...       ...    ...    ...    ...    ...    ...   \n",
            "141902        4170230  -20.0  473365.0    NaN    NaN    0.0    0.0    NaN   \n",
            "141903        4170233   -5.0  489917.0    0.0    0.0   -4.0  -32.0    NaN   \n",
            "141904        4170234   -5.0  110081.0    NaN    NaN   22.0  -31.0    NaN   \n",
            "141905        4170236  -45.0  266704.0    NaN    NaN   -3.0  -10.0    NaN   \n",
            "141906        4170239  -10.0  692090.0    0.0    0.0    0.0    0.0    NaN   \n",
            "\n",
            "        id-08  id-09  ...                    id-31  id-32     id-33  \\\n",
            "0         NaN    NaN  ...  chrome 67.0 for android    NaN       NaN   \n",
            "1         NaN    0.0  ...  chrome 67.0 for android   24.0  1280x720   \n",
            "2         NaN    NaN  ...       ie 11.0 for tablet    NaN       NaN   \n",
            "3         NaN    0.0  ...  chrome 67.0 for android    NaN       NaN   \n",
            "4         NaN    NaN  ...  chrome 67.0 for android    NaN       NaN   \n",
            "...       ...    ...  ...                      ...    ...       ...   \n",
            "141902    NaN    NaN  ...  chrome 71.0 for android    NaN       NaN   \n",
            "141903    NaN    0.0  ...  chrome 71.0 for android    NaN       NaN   \n",
            "141904    NaN    NaN  ...       mobile safari 10.0   32.0  1334x750   \n",
            "141905    NaN    NaN  ...  chrome 43.0 for android    NaN       NaN   \n",
            "141906    NaN    0.0  ...      samsung browser 8.2    NaN       NaN   \n",
            "\n",
            "                 id-34  id-35 id-36 id-37  id-38  DeviceType  \\\n",
            "0                  NaN      F     F     T      F      mobile   \n",
            "1       match_status:2      T     F     T      T      mobile   \n",
            "2                  NaN      F     T     T      F     desktop   \n",
            "3                  NaN      F     F     T      F      mobile   \n",
            "4                  NaN      F     F     T      F      mobile   \n",
            "...                ...    ...   ...   ...    ...         ...   \n",
            "141902             NaN      F     F     T      F      mobile   \n",
            "141903             NaN      F     F     T      F      mobile   \n",
            "141904  match_status:2      T     F     F      T      mobile   \n",
            "141905             NaN      F     F     T      F      mobile   \n",
            "141906             NaN      F     F     T      F      mobile   \n",
            "\n",
            "                         DeviceInfo  \n",
            "0       MYA-L13 Build/HUAWEIMYA-L13  \n",
            "1              LGLS676 Build/MXB48T  \n",
            "2                       Trident/7.0  \n",
            "3       MYA-L13 Build/HUAWEIMYA-L13  \n",
            "4              SM-G9650 Build/R16NW  \n",
            "...                             ...  \n",
            "141902                     SM-J700M  \n",
            "141903                     SM-J320M  \n",
            "141904                   iOS Device  \n",
            "141905  ALE-L23 Build/HuaweiALE-L23  \n",
            "141906                      SAMSUNG  \n",
            "\n",
            "[141907 rows x 41 columns]>\n"
          ]
        }
      ]
    },
    {
      "cell_type": "code",
      "source": [
        "print(train_id_df.describe)\n",
        "print(train_id_df.columns)"
      ],
      "metadata": {
        "colab": {
          "base_uri": "https://localhost:8080/"
        },
        "id": "jEFA0_GAXSyB",
        "outputId": "1e7472b9-bad2-4c75-e7f8-cc23301171c1"
      },
      "execution_count": 6,
      "outputs": [
        {
          "output_type": "stream",
          "name": "stdout",
          "text": [
            "<bound method NDFrame.describe of         TransactionID  id_01     id_02  id_03  id_04  id_05  id_06  id_07  \\\n",
            "0             2987004    0.0   70787.0    NaN    NaN    NaN    NaN    NaN   \n",
            "1             2987008   -5.0   98945.0    NaN    NaN    0.0   -5.0    NaN   \n",
            "2             2987010   -5.0  191631.0    0.0    0.0    0.0    0.0    NaN   \n",
            "3             2987011   -5.0  221832.0    NaN    NaN    0.0   -6.0    NaN   \n",
            "4             2987016    0.0    7460.0    0.0    0.0    1.0    0.0    NaN   \n",
            "...               ...    ...       ...    ...    ...    ...    ...    ...   \n",
            "144228        3577521  -15.0  145955.0    0.0    0.0    0.0    0.0    NaN   \n",
            "144229        3577526   -5.0  172059.0    NaN    NaN    1.0   -5.0    NaN   \n",
            "144230        3577529  -20.0  632381.0    NaN    NaN   -1.0  -36.0    NaN   \n",
            "144231        3577531   -5.0   55528.0    0.0    0.0    0.0   -7.0    NaN   \n",
            "144232        3577534  -45.0  339406.0    NaN    NaN  -10.0 -100.0    NaN   \n",
            "\n",
            "        id_08  id_09  ...                    id_31  id_32      id_33  \\\n",
            "0         NaN    NaN  ...      samsung browser 6.2   32.0  2220x1080   \n",
            "1         NaN    NaN  ...       mobile safari 11.0   32.0   1334x750   \n",
            "2         NaN    0.0  ...              chrome 62.0    NaN        NaN   \n",
            "3         NaN    NaN  ...              chrome 62.0    NaN        NaN   \n",
            "4         NaN    0.0  ...              chrome 62.0   24.0   1280x800   \n",
            "...       ...    ...  ...                      ...    ...        ...   \n",
            "144228    NaN    0.0  ...  chrome 66.0 for android    NaN        NaN   \n",
            "144229    NaN    NaN  ...  chrome 55.0 for android   32.0    855x480   \n",
            "144230    NaN    NaN  ...  chrome 65.0 for android    NaN        NaN   \n",
            "144231    NaN    0.0  ...              chrome 66.0   24.0  2560x1600   \n",
            "144232    NaN    NaN  ...  chrome 66.0 for android    NaN        NaN   \n",
            "\n",
            "                 id_34  id_35 id_36 id_37  id_38  DeviceType  \\\n",
            "0       match_status:2      T     F     T      T      mobile   \n",
            "1       match_status:1      T     F     F      T      mobile   \n",
            "2                  NaN      F     F     T      T     desktop   \n",
            "3                  NaN      F     F     T      T     desktop   \n",
            "4       match_status:2      T     F     T      T     desktop   \n",
            "...                ...    ...   ...   ...    ...         ...   \n",
            "144228             NaN      F     F     T      F      mobile   \n",
            "144229  match_status:2      T     F     T      F      mobile   \n",
            "144230             NaN      F     F     T      F      mobile   \n",
            "144231  match_status:2      T     F     T      F     desktop   \n",
            "144232             NaN      F     F     T      F      mobile   \n",
            "\n",
            "                                DeviceInfo  \n",
            "0            SAMSUNG SM-G892A Build/NRD90M  \n",
            "1                               iOS Device  \n",
            "2                                  Windows  \n",
            "3                                      NaN  \n",
            "4                                    MacOS  \n",
            "...                                    ...  \n",
            "144228             F3111 Build/33.3.A.1.97  \n",
            "144229                 A574BL Build/NMF26F  \n",
            "144230  Moto E (4) Plus Build/NMA26.42-152  \n",
            "144231                               MacOS  \n",
            "144232         RNE-L03 Build/HUAWEIRNE-L03  \n",
            "\n",
            "[144233 rows x 41 columns]>\n",
            "Index(['TransactionID', 'id_01', 'id_02', 'id_03', 'id_04', 'id_05', 'id_06',\n",
            "       'id_07', 'id_08', 'id_09', 'id_10', 'id_11', 'id_12', 'id_13', 'id_14',\n",
            "       'id_15', 'id_16', 'id_17', 'id_18', 'id_19', 'id_20', 'id_21', 'id_22',\n",
            "       'id_23', 'id_24', 'id_25', 'id_26', 'id_27', 'id_28', 'id_29', 'id_30',\n",
            "       'id_31', 'id_32', 'id_33', 'id_34', 'id_35', 'id_36', 'id_37', 'id_38',\n",
            "       'DeviceType', 'DeviceInfo'],\n",
            "      dtype='object')\n"
          ]
        }
      ]
    },
    {
      "cell_type": "code",
      "source": [
        "print(train_trns_df.describe)\n",
        "print(train_trns_df.columns)"
      ],
      "metadata": {
        "colab": {
          "base_uri": "https://localhost:8080/"
        },
        "id": "qiZfHMaFXXao",
        "outputId": "cdcbf9bc-64da-4da9-8395-c681a6d264ae"
      },
      "execution_count": 7,
      "outputs": [
        {
          "output_type": "stream",
          "name": "stdout",
          "text": [
            "<bound method NDFrame.describe of         TransactionID  isFraud  TransactionDT  TransactionAmt ProductCD  \\\n",
            "0             2987000        0          86400           68.50         W   \n",
            "1             2987001        0          86401           29.00         W   \n",
            "2             2987002        0          86469           59.00         W   \n",
            "3             2987003        0          86499           50.00         W   \n",
            "4             2987004        0          86506           50.00         H   \n",
            "...               ...      ...            ...             ...       ...   \n",
            "590535        3577535        0       15811047           49.00         W   \n",
            "590536        3577536        0       15811049           39.50         W   \n",
            "590537        3577537        0       15811079           30.95         W   \n",
            "590538        3577538        0       15811088          117.00         W   \n",
            "590539        3577539        0       15811131          279.95         W   \n",
            "\n",
            "        card1  card2  card3       card4  card5  ... V330  V331  V332  V333  \\\n",
            "0       13926    NaN  150.0    discover  142.0  ...  NaN   NaN   NaN   NaN   \n",
            "1        2755  404.0  150.0  mastercard  102.0  ...  NaN   NaN   NaN   NaN   \n",
            "2        4663  490.0  150.0        visa  166.0  ...  NaN   NaN   NaN   NaN   \n",
            "3       18132  567.0  150.0  mastercard  117.0  ...  NaN   NaN   NaN   NaN   \n",
            "4        4497  514.0  150.0  mastercard  102.0  ...  0.0   0.0   0.0   0.0   \n",
            "...       ...    ...    ...         ...    ...  ...  ...   ...   ...   ...   \n",
            "590535   6550    NaN  150.0        visa  226.0  ...  NaN   NaN   NaN   NaN   \n",
            "590536  10444  225.0  150.0  mastercard  224.0  ...  NaN   NaN   NaN   NaN   \n",
            "590537  12037  595.0  150.0  mastercard  224.0  ...  NaN   NaN   NaN   NaN   \n",
            "590538   7826  481.0  150.0  mastercard  224.0  ...  NaN   NaN   NaN   NaN   \n",
            "590539  15066  170.0  150.0  mastercard  102.0  ...  NaN   NaN   NaN   NaN   \n",
            "\n",
            "        V334 V335 V336  V337  V338  V339  \n",
            "0        NaN  NaN  NaN   NaN   NaN   NaN  \n",
            "1        NaN  NaN  NaN   NaN   NaN   NaN  \n",
            "2        NaN  NaN  NaN   NaN   NaN   NaN  \n",
            "3        NaN  NaN  NaN   NaN   NaN   NaN  \n",
            "4        0.0  0.0  0.0   0.0   0.0   0.0  \n",
            "...      ...  ...  ...   ...   ...   ...  \n",
            "590535   NaN  NaN  NaN   NaN   NaN   NaN  \n",
            "590536   NaN  NaN  NaN   NaN   NaN   NaN  \n",
            "590537   NaN  NaN  NaN   NaN   NaN   NaN  \n",
            "590538   NaN  NaN  NaN   NaN   NaN   NaN  \n",
            "590539   NaN  NaN  NaN   NaN   NaN   NaN  \n",
            "\n",
            "[590540 rows x 394 columns]>\n",
            "Index(['TransactionID', 'isFraud', 'TransactionDT', 'TransactionAmt',\n",
            "       'ProductCD', 'card1', 'card2', 'card3', 'card4', 'card5',\n",
            "       ...\n",
            "       'V330', 'V331', 'V332', 'V333', 'V334', 'V335', 'V336', 'V337', 'V338',\n",
            "       'V339'],\n",
            "      dtype='object', length=394)\n"
          ]
        }
      ]
    },
    {
      "cell_type": "code",
      "source": [
        "## I will be merging on \"transaction id\"\n",
        "train_merged= pd.merge(train_trns_df, train_id_df, on='TransactionID', how='left')\n",
        "test_merged= pd.merge(test_trns_df, test_id_df, on='TransactionID', how='left')"
      ],
      "metadata": {
        "id": "EdNeh9zwXb-C"
      },
      "execution_count": 8,
      "outputs": []
    },
    {
      "cell_type": "code",
      "source": [
        "print(train_merged.shape)## we have 434 variables\n",
        "print(test_merged.shape)"
      ],
      "metadata": {
        "colab": {
          "base_uri": "https://localhost:8080/"
        },
        "id": "pxsID0SKaRCj",
        "outputId": "c02df985-e547-4067-b5df-5ad589abeb9c"
      },
      "execution_count": 9,
      "outputs": [
        {
          "output_type": "stream",
          "name": "stdout",
          "text": [
            "(590540, 434)\n",
            "(506691, 433)\n"
          ]
        }
      ]
    },
    {
      "cell_type": "markdown",
      "source": [
        "### Inspecting NaNs"
      ],
      "metadata": {
        "id": "Xv7aIDlBZux2"
      }
    },
    {
      "cell_type": "markdown",
      "source": [
        "Training data"
      ],
      "metadata": {
        "id": "VKIMUAPHab5V"
      }
    },
    {
      "cell_type": "code",
      "source": [
        "# Step 1: Calculate NaN statistics\n",
        "nan_percentage_train = train_merged.isnull().mean() * 100\n",
        "nan_percentage_train = nan_percentage_train.sort_values(ascending=False)\n",
        "\n",
        "# Step 2: Summary statistics\n",
        "print(\"NaN Distribution Across Columns:\")\n",
        "print(f\"Total rows: {train_merged.shape[0]}\")\n",
        "print(f\"Total columns: {train_merged.shape[1]}\")\n",
        "print(f\"Columns with >30% missing values: {(nan_percentage_train > 30).sum()}\") ##removing columns with more than 30% missing vlaues\n",
        "print(\"\\nTop 10 columns with highest missing values:\")\n",
        "print(nan_percentage_train.head(10))\n"
      ],
      "metadata": {
        "colab": {
          "base_uri": "https://localhost:8080/"
        },
        "id": "6R-1f7HXZyIu",
        "outputId": "6ed5a97e-e5da-45f5-85ce-cc5b901ec0dc"
      },
      "execution_count": 10,
      "outputs": [
        {
          "output_type": "stream",
          "name": "stdout",
          "text": [
            "NaN Distribution Across Columns:\n",
            "Total rows: 590540\n",
            "Total columns: 434\n",
            "Columns with >30% missing values: 232\n",
            "\n",
            "Top 10 columns with highest missing values:\n",
            "id_24    99.196159\n",
            "id_25    99.130965\n",
            "id_07    99.127070\n",
            "id_08    99.127070\n",
            "id_21    99.126393\n",
            "id_26    99.125715\n",
            "id_27    99.124699\n",
            "id_23    99.124699\n",
            "id_22    99.124699\n",
            "dist2    93.628374\n",
            "dtype: float64\n"
          ]
        }
      ]
    },
    {
      "cell_type": "code",
      "source": [
        "# Plot 1: Bar plot of NaN percentages (top 50 columns)\n",
        "plt.figure(figsize=(15, 8))\n",
        "nan_percentage_train.head(50).plot(kind='bar')\n",
        "plt.title('NaN % Before Preprocessing (Top 50 Columns)')\n",
        "plt.xlabel('Column name')\n",
        "plt.ylabel('Missing Value %')\n",
        "plt.xticks(rotation=45, ha='right')\n",
        "plt.tight_layout()\n",
        "plt.savefig('/content/drive/MyDrive/nan_bar_plot_before.png')\n",
        "plt.show()"
      ],
      "metadata": {
        "colab": {
          "base_uri": "https://localhost:8080/",
          "height": 545
        },
        "id": "iRgK6Lhqcqta",
        "outputId": "13bf8677-d670-4a2c-dbf5-752ad4eb21d0"
      },
      "execution_count": 11,
      "outputs": [
        {
          "output_type": "display_data",
          "data": {
            "text/plain": [
              "<Figure size 1500x800 with 1 Axes>"
            ],
            "image/png": "[encoded data removed]"
          },
          "metadata": {}
        }
      ]
    },
    {
      "cell_type": "code",
      "source": [
        "print(nan_percentage_train.describe)"
      ],
      "metadata": {
        "colab": {
          "base_uri": "https://localhost:8080/"
        },
        "id": "hd6A-Sgxa6Kn",
        "outputId": "7b2e4ed1-7c87-45c7-d413-2a5e0c4d806c"
      },
      "execution_count": 12,
      "outputs": [
        {
          "output_type": "stream",
          "name": "stdout",
          "text": [
            "<bound method NDFrame.describe of id_24            99.196159\n",
            "id_25            99.130965\n",
            "id_07            99.127070\n",
            "id_08            99.127070\n",
            "id_21            99.126393\n",
            "                   ...    \n",
            "C11               0.000000\n",
            "C14               0.000000\n",
            "C13               0.000000\n",
            "C12               0.000000\n",
            "TransactionID     0.000000\n",
            "Length: 434, dtype: float64>\n"
          ]
        }
      ]
    },
    {
      "cell_type": "code",
      "source": [
        "# Remove columns with >30% missing values\n",
        "columns_to_drop = nan_percentage_train[nan_percentage_train > 30].index\n",
        "print(f\"Removing {len(columns_to_drop)} columns with >30% missing values:\")\n",
        "print(columns_to_drop.tolist())\n",
        "train_data_cleaned = train_merged.drop(columns=columns_to_drop)"
      ],
      "metadata": {
        "colab": {
          "base_uri": "https://localhost:8080/"
        },
        "id": "hICFRJvNcRwQ",
        "outputId": "fa28e495-9a2e-4d3a-ee9e-d5bcef9ea7d7"
      },
      "execution_count": 13,
      "outputs": [
        {
          "output_type": "stream",
          "name": "stdout",
          "text": [
            "Removing 232 columns with >30% missing values:\n",
            "['id_24', 'id_25', 'id_07', 'id_08', 'id_21', 'id_26', 'id_27', 'id_23', 'id_22', 'dist2', 'D7', 'id_18', 'D13', 'D14', 'D12', 'id_04', 'id_03', 'D6', 'id_33', 'id_09', 'D8', 'id_10', 'D9', 'id_30', 'id_32', 'id_34', 'id_14', 'V138', 'V139', 'V148', 'V154', 'V162', 'V141', 'V157', 'V146', 'V163', 'V155', 'V142', 'V161', 'V158', 'V156', 'V140', 'V149', 'V147', 'V153', 'V159', 'V160', 'V166', 'V164', 'V165', 'V152', 'V145', 'V143', 'V144', 'V150', 'V151', 'V330', 'V329', 'V336', 'V333', 'V334', 'V331', 'V326', 'V325', 'V324', 'V327', 'V323', 'V322', 'V338', 'V339', 'V335', 'V337', 'V328', 'V332', 'DeviceInfo', 'id_13', 'id_16', 'V249', 'V277', 'V278', 'V248', 'V275', 'V276', 'V252', 'V247', 'V246', 'V232', 'V237', 'V244', 'V243', 'V241', 'V242', 'V240', 'V236', 'V263', 'V262', 'V261', 'V264', 'V267', 'V266', 'V269', 'V265', 'V268', 'V273', 'V274', 'V254', 'V260', 'V253', 'V257', 'V258', 'V218', 'V217', 'V219', 'V223', 'V226', 'V225', 'V224', 'V231', 'V228', 'V229', 'V233', 'V235', 'V230', 'id_05', 'id_06', 'R_emaildomain', 'id_20', 'id_19', 'id_17', 'V213', 'V215', 'V214', 'V206', 'V183', 'V168', 'V173', 'V181', 'V212', 'V211', 'V205', 'V207', 'V216', 'V167', 'V182', 'V193', 'V192', 'V187', 'V204', 'V202', 'V203', 'V199', 'V196', 'V186', 'V179', 'V177', 'V178', 'V176', 'V172', 'V191', 'V190', 'V175', 'V209', 'V208', 'V169', 'V180', 'V174', 'V184', 'V185', 'V189', 'V171', 'V170', 'V200', 'V201', 'V210', 'V197', 'V198', 'V194', 'V188', 'V195', 'id_31', 'DeviceType', 'id_02', 'id_28', 'id_11', 'id_29', 'id_15', 'id_38', 'id_36', 'id_35', 'id_37', 'V251', 'V250', 'V255', 'V256', 'V259', 'V272', 'V271', 'V270', 'V234', 'V239', 'V238', 'V245', 'V227', 'V220', 'V222', 'V221', 'id_12', 'id_01', 'dist1', 'M5', 'M7', 'M9', 'M8', 'D5', 'M4', 'D2', 'V11', 'V3', 'V4', 'V6', 'V5', 'V10', 'V1', 'V9', 'V8', 'V2', 'V7', 'D11', 'M1', 'M3', 'M2', 'D3']\n"
          ]
        }
      ]
    },
    {
      "cell_type": "code",
      "source": [
        "## I wanna check data types\n",
        "train_data_cleaned.dtypes"
      ],
      "metadata": {
        "colab": {
          "base_uri": "https://localhost:8080/",
          "height": 458
        },
        "id": "qLIGkSdsfOPb",
        "outputId": "3a592bc5-1a6d-422d-aedf-45e67b505675"
      },
      "execution_count": 14,
      "outputs": [
        {
          "output_type": "execute_result",
          "data": {
            "text/plain": [
              "TransactionID       int64\n",
              "isFraud             int64\n",
              "TransactionDT       int64\n",
              "TransactionAmt    float64\n",
              "ProductCD          object\n",
              "                   ...   \n",
              "V317              float64\n",
              "V318              float64\n",
              "V319              float64\n",
              "V320              float64\n",
              "V321              float64\n",
              "Length: 202, dtype: object"
            ],
            "text/html": [
              "<div>\n",
              "<style scoped>\n",
              "    .dataframe tbody tr th:only-of-type {\n",
              "        vertical-align: middle;\n",
              "    }\n",
              "\n",
              "    .dataframe tbody tr th {\n",
              "        vertical-align: top;\n",
              "    }\n",
              "\n",
              "    .dataframe thead th {\n",
              "        text-align: right;\n",
              "    }\n",
              "</style>\n",
              "<table border=\"1\" class=\"dataframe\">\n",
              "  <thead>\n",
              "    <tr style=\"text-align: right;\">\n",
              "      <th></th>\n",
              "      <th>0</th>\n",
              "    </tr>\n",
              "  </thead>\n",
              "  <tbody>\n",
              "    <tr>\n",
              "      <th>TransactionID</th>\n",
              "      <td>int64</td>\n",
              "    </tr>\n",
              "    <tr>\n",
              "      <th>isFraud</th>\n",
              "      <td>int64</td>\n",
              "    </tr>\n",
              "    <tr>\n",
              "      <th>TransactionDT</th>\n",
              "      <td>int64</td>\n",
              "    </tr>\n",
              "    <tr>\n",
              "      <th>TransactionAmt</th>\n",
              "      <td>float64</td>\n",
              "    </tr>\n",
              "    <tr>\n",
              "      <th>ProductCD</th>\n",
              "      <td>object</td>\n",
              "    </tr>\n",
              "    <tr>\n",
              "      <th>...</th>\n",
              "      <td>...</td>\n",
              "    </tr>\n",
              "    <tr>\n",
              "      <th>V317</th>\n",
              "      <td>float64</td>\n",
              "    </tr>\n",
              "    <tr>\n",
              "      <th>V318</th>\n",
              "      <td>float64</td>\n",
              "    </tr>\n",
              "    <tr>\n",
              "      <th>V319</th>\n",
              "      <td>float64</td>\n",
              "    </tr>\n",
              "    <tr>\n",
              "      <th>V320</th>\n",
              "      <td>float64</td>\n",
              "    </tr>\n",
              "    <tr>\n",
              "      <th>V321</th>\n",
              "      <td>float64</td>\n",
              "    </tr>\n",
              "  </tbody>\n",
              "</table>\n",
              "<p>202 rows × 1 columns</p>\n",
              "</div><br><label><b>dtype:</b> object</label>"
            ]
          },
          "metadata": {},
          "execution_count": 14
        }
      ]
    },
    {
      "cell_type": "code",
      "source": [
        "# Impute NaNs in all columns with the mean (for numeric columns only)\n",
        "train_data_cleaned = train_data_cleaned.fillna(train_data_cleaned.mean(numeric_only=True))"
      ],
      "metadata": {
        "id": "Gesh_r-EoHVA"
      },
      "execution_count": 15,
      "outputs": []
    },
    {
      "cell_type": "markdown",
      "source": [
        "Test Data"
      ],
      "metadata": {
        "id": "OzsGhZbYkZVz"
      }
    },
    {
      "cell_type": "code",
      "source": [
        "# Step 1: Calculate NaN statistics\n",
        "nan_percentage_test = test_merged.isnull().mean() * 100\n",
        "nan_percentage_test = nan_percentage_test.sort_values(ascending=False)\n",
        "\n",
        "# Step 2: Summary statistics\n",
        "print(\"NaN Distribution Across Columns:\")\n",
        "print(f\"Total rows: {test_merged.shape[0]}\")\n",
        "print(f\"Total columns: {test_merged.shape[1]}\")\n",
        "print(f\"Columns with >30% missing values: {(nan_percentage_test > 30).sum()}\") ##removing columns with more than 30% missing vlaues\n",
        "print(\"\\nTop 10 columns with highest missing values:\")\n",
        "print(nan_percentage_test.head(10))"
      ],
      "metadata": {
        "colab": {
          "base_uri": "https://localhost:8080/"
        },
        "id": "kk2c9qixkam_",
        "outputId": "6879abb4-deac-4909-f23f-c5cdac02d2ba"
      },
      "execution_count": 16,
      "outputs": [
        {
          "output_type": "stream",
          "name": "stdout",
          "text": [
            "NaN Distribution Across Columns:\n",
            "Total rows: 506691\n",
            "Total columns: 433\n",
            "Columns with >30% missing values: 233\n",
            "\n",
            "Top 10 columns with highest missing values:\n",
            "id-24    99.064519\n",
            "id-25    99.005508\n",
            "id-26    99.003929\n",
            "id-07    99.001561\n",
            "id-08    99.001561\n",
            "id-21    99.001561\n",
            "id-22    99.000969\n",
            "id-27    99.000969\n",
            "id-23    99.000969\n",
            "dist2    92.809030\n",
            "dtype: float64\n"
          ]
        }
      ]
    },
    {
      "cell_type": "code",
      "source": [
        "# Bar plot: Top 50 columns\n",
        "plt.figure(figsize=(15, 8))\n",
        "nan_percentage_test.head(50).plot(kind='bar')\n",
        "plt.title('NaN % Before Preprocessing (Top 50 Columns)')\n",
        "plt.xlabel('Column name')\n",
        "plt.ylabel('Missing Value %')\n",
        "plt.xticks(rotation=45, ha='right')\n",
        "plt.tight_layout()\n",
        "plt.savefig('/content/drive/MyDrive/nan_bar_plot_before.png')\n",
        "plt.show()"
      ],
      "metadata": {
        "colab": {
          "base_uri": "https://localhost:8080/",
          "height": 545
        },
        "id": "it_S48IIksdw",
        "outputId": "660e5ea7-571f-4f38-bb50-89881310740e"
      },
      "execution_count": 17,
      "outputs": [
        {
          "output_type": "display_data",
          "data": {
            "text/plain": [
              "<Figure size 1500x800 with 1 Axes>"
            ],
            "image/png": "[encoded data removed]"
          },
          "metadata": {}
        }
      ]
    },
    {
      "cell_type": "code",
      "source": [
        "# Remove columns with >30% missing values\n",
        "columns_to_drop_test = nan_percentage_test[nan_percentage_test > 30].index\n",
        "print(f\"Removing {len(columns_to_drop_test)} columns with >30% missing values:\")\n",
        "print(columns_to_drop_test.tolist())\n",
        "test_data_cleaned = test_merged.drop(columns=columns_to_drop_test)"
      ],
      "metadata": {
        "colab": {
          "base_uri": "https://localhost:8080/"
        },
        "id": "JjcsB9tPk8dt",
        "outputId": "f8675e11-f259-449c-82cb-3213759d56b0"
      },
      "execution_count": 18,
      "outputs": [
        {
          "output_type": "stream",
          "name": "stdout",
          "text": [
            "Removing 233 columns with >30% missing values:\n",
            "['id-24', 'id-25', 'id-26', 'id-07', 'id-08', 'id-21', 'id-22', 'id-27', 'id-23', 'dist2', 'id-18', 'D7', 'id-04', 'id-03', 'D12', 'id-30', 'id-32', 'id-33', 'id-14', 'id-34', 'id-09', 'id-10', 'D8', 'D9', 'V139', 'V156', 'V138', 'V163', 'V146', 'V140', 'V162', 'V142', 'V141', 'V147', 'V149', 'V148', 'V161', 'V155', 'V157', 'V158', 'V153', 'V154', 'V151', 'V164', 'V159', 'V166', 'V165', 'V160', 'V144', 'V150', 'V143', 'V152', 'V145', 'V325', 'V327', 'V326', 'V337', 'V333', 'V332', 'V329', 'V330', 'V331', 'V324', 'V328', 'V322', 'V323', 'V334', 'V335', 'V338', 'V339', 'V336', 'DeviceInfo', 'D14', 'D13', 'D6', 'id-16', 'V249', 'V254', 'V278', 'V252', 'V275', 'V276', 'V277', 'V248', 'V246', 'V247', 'V233', 'V237', 'V235', 'V244', 'V242', 'V243', 'V241', 'V240', 'V217', 'V263', 'V264', 'V265', 'V268', 'V267', 'V266', 'V269', 'V273', 'V274', 'V262', 'V253', 'V261', 'V257', 'V258', 'V260', 'V229', 'V223', 'V218', 'V219', 'V228', 'V226', 'V225', 'V224', 'V232', 'V230', 'V231', 'V236', 'id-13', 'id-06', 'id-05', 'id-20', 'R_emaildomain', 'id-19', 'id-17', 'V201', 'V210', 'V209', 'V180', 'V184', 'V171', 'V170', 'V175', 'V208', 'V195', 'V197', 'V200', 'V198', 'V194', 'V185', 'V188', 'V174', 'V169', 'V189', 'id-31', 'V179', 'V186', 'V187', 'V191', 'V181', 'V183', 'V176', 'V173', 'V182', 'V168', 'V167', 'V214', 'V213', 'V215', 'V216', 'V203', 'V202', 'V212', 'V211', 'V206', 'V207', 'V205', 'V204', 'V196', 'V193', 'V177', 'V199', 'V172', 'V190', 'V192', 'V178', 'id-29', 'id-28', 'id-11', 'DeviceType', 'id-02', 'id-15', 'id-38', 'id-37', 'id-36', 'id-35', 'V250', 'V251', 'V255', 'V256', 'V259', 'V270', 'V272', 'V271', 'V234', 'V238', 'V239', 'V245', 'V227', 'V222', 'V221', 'V220', 'id-01', 'id-12', 'M5', 'dist1', 'M4', 'M7', 'M8', 'M9', 'D2', 'D5', 'D3', 'M2', 'M1', 'M3', 'V4', 'V1', 'V3', 'V8', 'V2', 'V5', 'V7', 'D11', 'V9', 'V10', 'V11', 'V6', 'M6']\n"
          ]
        }
      ]
    },
    {
      "cell_type": "code",
      "source": [
        "# Impute NaNs in all columns with the mean (for numeric columns only)\n",
        "test_data_cleaned = test_data_cleaned.fillna(test_data_cleaned.mean(numeric_only=True))"
      ],
      "metadata": {
        "id": "72EIjIEblLcx"
      },
      "execution_count": 19,
      "outputs": []
    },
    {
      "cell_type": "markdown",
      "source": [
        "## Running PCA"
      ],
      "metadata": {
        "id": "NZTY_JGloYgP"
      }
    },
    {
      "cell_type": "code",
      "source": [
        "# 1. Separate features and target\n",
        "X = train_data_cleaned.drop(\"isFraud\", axis=1)\n",
        "y = train_data_cleaned[\"isFraud\"]"
      ],
      "metadata": {
        "id": "0mgm5Nvpoa42"
      },
      "execution_count": 20,
      "outputs": []
    },
    {
      "cell_type": "code",
      "source": [
        "type(X)\n",
        "\n"
      ],
      "metadata": {
        "colab": {
          "base_uri": "https://localhost:8080/",
          "height": 204
        },
        "id": "UbeOg3KWpBBu",
        "outputId": "9cfe2a34-0979-4222-d182-81d128cd289d"
      },
      "execution_count": 21,
      "outputs": [
        {
          "output_type": "execute_result",
          "data": {
            "text/plain": [
              "pandas.core.frame.DataFrame"
            ],
            "text/html": [
              "<div style=\"max-width:800px; border: 1px solid var(--colab-border-color);\"><style>\n",
              "      pre.function-repr-contents {\n",
              "        overflow-x: auto;\n",
              "        padding: 8px 12px;\n",
              "        max-height: 500px;\n",
              "      }\n",
              "\n",
              "      pre.function-repr-contents.function-repr-contents-collapsed {\n",
              "        cursor: pointer;\n",
              "        max-height: 100px;\n",
              "      }\n",
              "    </style>\n",
              "    <pre style=\"white-space: initial; background:\n",
              "         var(--colab-secondary-surface-color); padding: 8px 12px;\n",
              "         border-bottom: 1px solid var(--colab-border-color);\"><b>pandas.core.frame.DataFrame</b><br/>def __init__(data=None, index: Axes | None=None, columns: Axes | None=None, dtype: Dtype | None=None, copy: bool | None=None) -&gt; None</pre><pre class=\"function-repr-contents function-repr-contents-collapsed\" style=\"\"><a class=\"filepath\" style=\"display:none\" href=\"#\">/usr/local/lib/python3.11/dist-packages/pandas/core/frame.py</a>Two-dimensional, size-mutable, potentially heterogeneous tabular data.\n",
              "\n",
              "Data structure also contains labeled axes (rows and columns).\n",
              "Arithmetic operations align on both row and column labels. Can be\n",
              "thought of as a dict-like container for Series objects. The primary\n",
              "pandas data structure.\n",
              "\n",
              "Parameters\n",
              "----------\n",
              "data : ndarray (structured or homogeneous), Iterable, dict, or DataFrame\n",
              "    Dict can contain Series, arrays, constants, dataclass or list-like objects. If\n",
              "    data is a dict, column order follows insertion-order. If a dict contains Series\n",
              "    which have an index defined, it is aligned by its index. This alignment also\n",
              "    occurs if data is a Series or a DataFrame itself. Alignment is done on\n",
              "    Series/DataFrame inputs.\n",
              "\n",
              "    If data is a list of dicts, column order follows insertion-order.\n",
              "\n",
              "index : Index or array-like\n",
              "    Index to use for resulting frame. Will default to RangeIndex if\n",
              "    no indexing information part of input data and no index provided.\n",
              "columns : Index or array-like\n",
              "    Column labels to use for resulting frame when data does not have them,\n",
              "    defaulting to RangeIndex(0, 1, 2, ..., n). If data contains column labels,\n",
              "    will perform column selection instead.\n",
              "dtype : dtype, default None\n",
              "    Data type to force. Only a single dtype is allowed. If None, infer.\n",
              "copy : bool or None, default None\n",
              "    Copy data from inputs.\n",
              "    For dict data, the default of None behaves like ``copy=True``.  For DataFrame\n",
              "    or 2d ndarray input, the default of None behaves like ``copy=False``.\n",
              "    If data is a dict containing one or more Series (possibly of different dtypes),\n",
              "    ``copy=False`` will ensure that these inputs are not copied.\n",
              "\n",
              "    .. versionchanged:: 1.3.0\n",
              "\n",
              "See Also\n",
              "--------\n",
              "DataFrame.from_records : Constructor from tuples, also record arrays.\n",
              "DataFrame.from_dict : From dicts of Series, arrays, or dicts.\n",
              "read_csv : Read a comma-separated values (csv) file into DataFrame.\n",
              "read_table : Read general delimited file into DataFrame.\n",
              "read_clipboard : Read text from clipboard into DataFrame.\n",
              "\n",
              "Notes\n",
              "-----\n",
              "Please reference the :ref:`User Guide &lt;basics.dataframe&gt;` for more information.\n",
              "\n",
              "Examples\n",
              "--------\n",
              "Constructing DataFrame from a dictionary.\n",
              "\n",
              "&gt;&gt;&gt; d = {&#x27;col1&#x27;: [1, 2], &#x27;col2&#x27;: [3, 4]}\n",
              "&gt;&gt;&gt; df = pd.DataFrame(data=d)\n",
              "&gt;&gt;&gt; df\n",
              "   col1  col2\n",
              "0     1     3\n",
              "1     2     4\n",
              "\n",
              "Notice that the inferred dtype is int64.\n",
              "\n",
              "&gt;&gt;&gt; df.dtypes\n",
              "col1    int64\n",
              "col2    int64\n",
              "dtype: object\n",
              "\n",
              "To enforce a single dtype:\n",
              "\n",
              "&gt;&gt;&gt; df = pd.DataFrame(data=d, dtype=np.int8)\n",
              "&gt;&gt;&gt; df.dtypes\n",
              "col1    int8\n",
              "col2    int8\n",
              "dtype: object\n",
              "\n",
              "Constructing DataFrame from a dictionary including Series:\n",
              "\n",
              "&gt;&gt;&gt; d = {&#x27;col1&#x27;: [0, 1, 2, 3], &#x27;col2&#x27;: pd.Series([2, 3], index=[2, 3])}\n",
              "&gt;&gt;&gt; pd.DataFrame(data=d, index=[0, 1, 2, 3])\n",
              "   col1  col2\n",
              "0     0   NaN\n",
              "1     1   NaN\n",
              "2     2   2.0\n",
              "3     3   3.0\n",
              "\n",
              "Constructing DataFrame from numpy ndarray:\n",
              "\n",
              "&gt;&gt;&gt; df2 = pd.DataFrame(np.array([[1, 2, 3], [4, 5, 6], [7, 8, 9]]),\n",
              "...                    columns=[&#x27;a&#x27;, &#x27;b&#x27;, &#x27;c&#x27;])\n",
              "&gt;&gt;&gt; df2\n",
              "   a  b  c\n",
              "0  1  2  3\n",
              "1  4  5  6\n",
              "2  7  8  9\n",
              "\n",
              "Constructing DataFrame from a numpy ndarray that has labeled columns:\n",
              "\n",
              "&gt;&gt;&gt; data = np.array([(1, 2, 3), (4, 5, 6), (7, 8, 9)],\n",
              "...                 dtype=[(&quot;a&quot;, &quot;i4&quot;), (&quot;b&quot;, &quot;i4&quot;), (&quot;c&quot;, &quot;i4&quot;)])\n",
              "&gt;&gt;&gt; df3 = pd.DataFrame(data, columns=[&#x27;c&#x27;, &#x27;a&#x27;])\n",
              "...\n",
              "&gt;&gt;&gt; df3\n",
              "   c  a\n",
              "0  3  1\n",
              "1  6  4\n",
              "2  9  7\n",
              "\n",
              "Constructing DataFrame from dataclass:\n",
              "\n",
              "&gt;&gt;&gt; from dataclasses import make_dataclass\n",
              "&gt;&gt;&gt; Point = make_dataclass(&quot;Point&quot;, [(&quot;x&quot;, int), (&quot;y&quot;, int)])\n",
              "&gt;&gt;&gt; pd.DataFrame([Point(0, 0), Point(0, 3), Point(2, 3)])\n",
              "   x  y\n",
              "0  0  0\n",
              "1  0  3\n",
              "2  2  3\n",
              "\n",
              "Constructing DataFrame from Series/DataFrame:\n",
              "\n",
              "&gt;&gt;&gt; ser = pd.Series([1, 2, 3], index=[&quot;a&quot;, &quot;b&quot;, &quot;c&quot;])\n",
              "&gt;&gt;&gt; df = pd.DataFrame(data=ser, index=[&quot;a&quot;, &quot;c&quot;])\n",
              "&gt;&gt;&gt; df\n",
              "   0\n",
              "a  1\n",
              "c  3\n",
              "\n",
              "&gt;&gt;&gt; df1 = pd.DataFrame([1, 2, 3], index=[&quot;a&quot;, &quot;b&quot;, &quot;c&quot;], columns=[&quot;x&quot;])\n",
              "&gt;&gt;&gt; df2 = pd.DataFrame(data=df1, index=[&quot;a&quot;, &quot;c&quot;])\n",
              "&gt;&gt;&gt; df2\n",
              "   x\n",
              "a  1\n",
              "c  3</pre>\n",
              "      <script>\n",
              "      if (google.colab.kernel.accessAllowed && google.colab.files && google.colab.files.view) {\n",
              "        for (const element of document.querySelectorAll('.filepath')) {\n",
              "          element.style.display = 'block'\n",
              "          element.onclick = (event) => {\n",
              "            event.preventDefault();\n",
              "            event.stopPropagation();\n",
              "            google.colab.files.view(element.textContent, 509);\n",
              "          };\n",
              "        }\n",
              "      }\n",
              "      for (const element of document.querySelectorAll('.function-repr-contents')) {\n",
              "        element.onclick = (event) => {\n",
              "          event.preventDefault();\n",
              "          event.stopPropagation();\n",
              "          element.classList.toggle('function-repr-contents-collapsed');\n",
              "        };\n",
              "      }\n",
              "      </script>\n",
              "      </div>"
            ]
          },
          "metadata": {},
          "execution_count": 21
        }
      ]
    }
  ]
}